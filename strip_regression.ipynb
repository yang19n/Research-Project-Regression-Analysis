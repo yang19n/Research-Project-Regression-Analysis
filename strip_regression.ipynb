{
 "cells": [
  {
   "cell_type": "markdown",
   "id": "1d565861",
   "metadata": {},
   "source": [
    "# Multiple linear regression analysis\n",
    "\n",
    "## Importing the relevant libraries"
   ]
  },
  {
   "cell_type": "code",
   "execution_count": 1,
   "id": "bbc363d5",
   "metadata": {},
   "outputs": [],
   "source": [
    "import numpy as np\n",
    "import pandas as pd\n",
    "import statsmodels.api as sm\n",
    "import matplotlib.pyplot as plt\n",
    "from sklearn.linear_model import LinearRegression\n",
    "import seaborn as sns\n",
    "sns.set()"
   ]
  },
  {
   "cell_type": "markdown",
   "id": "1e49276a",
   "metadata": {},
   "source": [
    "## Importing raw data"
   ]
  },
  {
   "cell_type": "code",
   "execution_count": 2,
   "id": "accde9eb",
   "metadata": {},
   "outputs": [
    {
     "data": {
      "text/html": [
       "<div>\n",
       "<style scoped>\n",
       "    .dataframe tbody tr th:only-of-type {\n",
       "        vertical-align: middle;\n",
       "    }\n",
       "\n",
       "    .dataframe tbody tr th {\n",
       "        vertical-align: top;\n",
       "    }\n",
       "\n",
       "    .dataframe thead th {\n",
       "        text-align: right;\n",
       "    }\n",
       "</style>\n",
       "<table border=\"1\" class=\"dataframe\">\n",
       "  <thead>\n",
       "    <tr style=\"text-align: right;\">\n",
       "      <th></th>\n",
       "      <th>ke</th>\n",
       "      <th>W</th>\n",
       "      <th>U</th>\n",
       "      <th>Nu/Nu0</th>\n",
       "    </tr>\n",
       "  </thead>\n",
       "  <tbody>\n",
       "    <tr>\n",
       "      <th>0</th>\n",
       "      <td>0.011328</td>\n",
       "      <td>-0.021940</td>\n",
       "      <td>0.628951</td>\n",
       "      <td>1.111257</td>\n",
       "    </tr>\n",
       "    <tr>\n",
       "      <th>1</th>\n",
       "      <td>0.015342</td>\n",
       "      <td>-0.029270</td>\n",
       "      <td>0.606158</td>\n",
       "      <td>1.187734</td>\n",
       "    </tr>\n",
       "    <tr>\n",
       "      <th>2</th>\n",
       "      <td>0.019698</td>\n",
       "      <td>-0.039965</td>\n",
       "      <td>0.577273</td>\n",
       "      <td>1.268142</td>\n",
       "    </tr>\n",
       "    <tr>\n",
       "      <th>3</th>\n",
       "      <td>0.023103</td>\n",
       "      <td>-0.052998</td>\n",
       "      <td>0.540090</td>\n",
       "      <td>1.353721</td>\n",
       "    </tr>\n",
       "    <tr>\n",
       "      <th>4</th>\n",
       "      <td>0.027022</td>\n",
       "      <td>-0.071219</td>\n",
       "      <td>0.499830</td>\n",
       "      <td>1.434628</td>\n",
       "    </tr>\n",
       "  </tbody>\n",
       "</table>\n",
       "</div>"
      ],
      "text/plain": [
       "         ke         W         U    Nu/Nu0\n",
       "0  0.011328 -0.021940  0.628951  1.111257\n",
       "1  0.015342 -0.029270  0.606158  1.187734\n",
       "2  0.019698 -0.039965  0.577273  1.268142\n",
       "3  0.023103 -0.052998  0.540090  1.353721\n",
       "4  0.027022 -0.071219  0.499830  1.434628"
      ]
     },
     "execution_count": 2,
     "metadata": {},
     "output_type": "execute_result"
    }
   ],
   "source": [
    "raw_data = pd.read_csv('strips_data.csv')\n",
    "raw_data.head()\n",
    "# ke, W, U, Nu/Nu0 represent turbulence intensity, verticle velocity, \n",
    "# streamwise velocity and convective heat transfer enhancement, respectively"
   ]
  },
  {
   "cell_type": "markdown",
   "id": "5e8c4de6",
   "metadata": {},
   "source": [
    "## Data processing"
   ]
  },
  {
   "cell_type": "markdown",
   "id": "ed666b3e",
   "metadata": {},
   "source": [
    "### Checking the descriptive statistics of the variables"
   ]
  },
  {
   "cell_type": "code",
   "execution_count": 3,
   "id": "f5ea391c",
   "metadata": {},
   "outputs": [
    {
     "data": {
      "text/html": [
       "<div>\n",
       "<style scoped>\n",
       "    .dataframe tbody tr th:only-of-type {\n",
       "        vertical-align: middle;\n",
       "    }\n",
       "\n",
       "    .dataframe tbody tr th {\n",
       "        vertical-align: top;\n",
       "    }\n",
       "\n",
       "    .dataframe thead th {\n",
       "        text-align: right;\n",
       "    }\n",
       "</style>\n",
       "<table border=\"1\" class=\"dataframe\">\n",
       "  <thead>\n",
       "    <tr style=\"text-align: right;\">\n",
       "      <th></th>\n",
       "      <th>ke</th>\n",
       "      <th>W</th>\n",
       "      <th>U</th>\n",
       "      <th>Nu/Nu0</th>\n",
       "    </tr>\n",
       "  </thead>\n",
       "  <tbody>\n",
       "    <tr>\n",
       "      <th>count</th>\n",
       "      <td>265.000000</td>\n",
       "      <td>265.000000</td>\n",
       "      <td>265.000000</td>\n",
       "      <td>265.000000</td>\n",
       "    </tr>\n",
       "    <tr>\n",
       "      <th>mean</th>\n",
       "      <td>0.018276</td>\n",
       "      <td>-0.038697</td>\n",
       "      <td>0.626480</td>\n",
       "      <td>1.421258</td>\n",
       "    </tr>\n",
       "    <tr>\n",
       "      <th>std</th>\n",
       "      <td>0.011022</td>\n",
       "      <td>0.038331</td>\n",
       "      <td>0.118003</td>\n",
       "      <td>0.305210</td>\n",
       "    </tr>\n",
       "    <tr>\n",
       "      <th>min</th>\n",
       "      <td>0.001154</td>\n",
       "      <td>-0.138023</td>\n",
       "      <td>0.319027</td>\n",
       "      <td>0.933611</td>\n",
       "    </tr>\n",
       "    <tr>\n",
       "      <th>25%</th>\n",
       "      <td>0.007756</td>\n",
       "      <td>-0.068372</td>\n",
       "      <td>0.558309</td>\n",
       "      <td>1.187734</td>\n",
       "    </tr>\n",
       "    <tr>\n",
       "      <th>50%</th>\n",
       "      <td>0.020063</td>\n",
       "      <td>-0.023325</td>\n",
       "      <td>0.619450</td>\n",
       "      <td>1.435739</td>\n",
       "    </tr>\n",
       "    <tr>\n",
       "      <th>75%</th>\n",
       "      <td>0.027552</td>\n",
       "      <td>-0.011221</td>\n",
       "      <td>0.733404</td>\n",
       "      <td>1.579060</td>\n",
       "    </tr>\n",
       "    <tr>\n",
       "      <th>max</th>\n",
       "      <td>0.040994</td>\n",
       "      <td>0.030170</td>\n",
       "      <td>0.844913</td>\n",
       "      <td>2.216603</td>\n",
       "    </tr>\n",
       "  </tbody>\n",
       "</table>\n",
       "</div>"
      ],
      "text/plain": [
       "               ke           W           U      Nu/Nu0\n",
       "count  265.000000  265.000000  265.000000  265.000000\n",
       "mean     0.018276   -0.038697    0.626480    1.421258\n",
       "std      0.011022    0.038331    0.118003    0.305210\n",
       "min      0.001154   -0.138023    0.319027    0.933611\n",
       "25%      0.007756   -0.068372    0.558309    1.187734\n",
       "50%      0.020063   -0.023325    0.619450    1.435739\n",
       "75%      0.027552   -0.011221    0.733404    1.579060\n",
       "max      0.040994    0.030170    0.844913    2.216603"
      ]
     },
     "execution_count": 3,
     "metadata": {},
     "output_type": "execute_result"
    }
   ],
   "source": [
    "raw_data.describe(include='all')"
   ]
  },
  {
   "cell_type": "markdown",
   "id": "8499b434",
   "metadata": {},
   "source": [
    "### Checking and dealing with missing values"
   ]
  },
  {
   "cell_type": "code",
   "execution_count": 4,
   "id": "15638e43",
   "metadata": {},
   "outputs": [
    {
     "data": {
      "text/plain": [
       "ke        0\n",
       "W         0\n",
       "U         0\n",
       "Nu/Nu0    0\n",
       "dtype: int64"
      ]
     },
     "execution_count": 4,
     "metadata": {},
     "output_type": "execute_result"
    }
   ],
   "source": [
    "raw_data.isnull().sum()"
   ]
  },
  {
   "cell_type": "code",
   "execution_count": 5,
   "id": "a9a3b54e",
   "metadata": {},
   "outputs": [],
   "source": [
    "data = raw_data.copy()\n",
    "data_update = data.dropna(axis=0)"
   ]
  },
  {
   "cell_type": "code",
   "execution_count": 6,
   "id": "ff999b40",
   "metadata": {},
   "outputs": [
    {
     "data": {
      "text/plain": [
       "ke        0\n",
       "W         0\n",
       "U         0\n",
       "Nu/Nu0    0\n",
       "dtype: int64"
      ]
     },
     "execution_count": 6,
     "metadata": {},
     "output_type": "execute_result"
    }
   ],
   "source": [
    "data_update.isnull().sum()"
   ]
  },
  {
   "cell_type": "markdown",
   "id": "05c03900",
   "metadata": {},
   "source": [
    "## Exploring probability density function, finding outliners"
   ]
  },
  {
   "cell_type": "code",
   "execution_count": 7,
   "id": "a9155d52",
   "metadata": {},
   "outputs": [
    {
     "data": {
      "text/plain": [
       "<seaborn.axisgrid.FacetGrid at 0x1a20a816730>"
      ]
     },
     "execution_count": 7,
     "metadata": {},
     "output_type": "execute_result"
    },
    {
     "data": {
      "image/png": "[encoded data removed]",
      "text/plain": [
       "<Figure size 360x360 with 1 Axes>"
      ]
     },
     "metadata": {},
     "output_type": "display_data"
    }
   ],
   "source": [
    "sns.displot(data_update['ke'])"
   ]
  },
  {
   "cell_type": "code",
   "execution_count": 8,
   "id": "9744b813",
   "metadata": {},
   "outputs": [
    {
     "data": {
      "text/plain": [
       "<seaborn.axisgrid.FacetGrid at 0x1a20a816280>"
      ]
     },
     "execution_count": 8,
     "metadata": {},
     "output_type": "execute_result"
    },
    {
     "data": {
      "image/png": "[encoded data removed]",
      "text/plain": [
       "<Figure size 360x360 with 1 Axes>"
      ]
     },
     "metadata": {},
     "output_type": "display_data"
    }
   ],
   "source": [
    "sns.displot(data_update['W'])"
   ]
  },
  {
   "cell_type": "code",
   "execution_count": 9,
   "id": "91b72ce8",
   "metadata": {},
   "outputs": [
    {
     "data": {
      "text/plain": [
       "<seaborn.axisgrid.FacetGrid at 0x1a20a75f7f0>"
      ]
     },
     "execution_count": 9,
     "metadata": {},
     "output_type": "execute_result"
    },
    {
     "data": {
      "image/png": "[encoded data removed]",
      "text/plain": [
       "<Figure size 360x360 with 1 Axes>"
      ]
     },
     "metadata": {},
     "output_type": "display_data"
    }
   ],
   "source": [
    "sns.displot(data_update['U'])"
   ]
  },
  {
   "cell_type": "code",
   "execution_count": 10,
   "id": "f7e9023b",
   "metadata": {},
   "outputs": [
    {
     "data": {
      "text/plain": [
       "<seaborn.axisgrid.FacetGrid at 0x1a20aa2a250>"
      ]
     },
     "execution_count": 10,
     "metadata": {},
     "output_type": "execute_result"
    },
    {
     "data": {
      "image/png": "[encoded data removed]",
      "text/plain": [
       "<Figure size 360x360 with 1 Axes>"
      ]
     },
     "metadata": {},
     "output_type": "display_data"
    }
   ],
   "source": [
    "sns.displot(data_update['Nu/Nu0'])"
   ]
  },
  {
   "cell_type": "code",
   "execution_count": 11,
   "id": "47bf71d5",
   "metadata": {},
   "outputs": [
    {
     "data": {
      "text/html": [
       "<div>\n",
       "<style scoped>\n",
       "    .dataframe tbody tr th:only-of-type {\n",
       "        vertical-align: middle;\n",
       "    }\n",
       "\n",
       "    .dataframe tbody tr th {\n",
       "        vertical-align: top;\n",
       "    }\n",
       "\n",
       "    .dataframe thead th {\n",
       "        text-align: right;\n",
       "    }\n",
       "</style>\n",
       "<table border=\"1\" class=\"dataframe\">\n",
       "  <thead>\n",
       "    <tr style=\"text-align: right;\">\n",
       "      <th></th>\n",
       "      <th>ke</th>\n",
       "      <th>W</th>\n",
       "      <th>U</th>\n",
       "      <th>Nu/Nu0</th>\n",
       "    </tr>\n",
       "  </thead>\n",
       "  <tbody>\n",
       "    <tr>\n",
       "      <th>count</th>\n",
       "      <td>262.000000</td>\n",
       "      <td>262.000000</td>\n",
       "      <td>262.000000</td>\n",
       "      <td>262.000000</td>\n",
       "    </tr>\n",
       "    <tr>\n",
       "      <th>mean</th>\n",
       "      <td>0.018462</td>\n",
       "      <td>-0.039002</td>\n",
       "      <td>0.624852</td>\n",
       "      <td>1.426821</td>\n",
       "    </tr>\n",
       "    <tr>\n",
       "      <th>std</th>\n",
       "      <td>0.010946</td>\n",
       "      <td>0.038442</td>\n",
       "      <td>0.117682</td>\n",
       "      <td>0.302456</td>\n",
       "    </tr>\n",
       "    <tr>\n",
       "      <th>min</th>\n",
       "      <td>0.001154</td>\n",
       "      <td>-0.138023</td>\n",
       "      <td>0.319027</td>\n",
       "      <td>0.940182</td>\n",
       "    </tr>\n",
       "    <tr>\n",
       "      <th>25%</th>\n",
       "      <td>0.008036</td>\n",
       "      <td>-0.068418</td>\n",
       "      <td>0.556203</td>\n",
       "      <td>1.196775</td>\n",
       "    </tr>\n",
       "    <tr>\n",
       "      <th>50%</th>\n",
       "      <td>0.020217</td>\n",
       "      <td>-0.023751</td>\n",
       "      <td>0.618501</td>\n",
       "      <td>1.436865</td>\n",
       "    </tr>\n",
       "    <tr>\n",
       "      <th>75%</th>\n",
       "      <td>0.027623</td>\n",
       "      <td>-0.011823</td>\n",
       "      <td>0.728888</td>\n",
       "      <td>1.581442</td>\n",
       "    </tr>\n",
       "    <tr>\n",
       "      <th>max</th>\n",
       "      <td>0.040994</td>\n",
       "      <td>0.030170</td>\n",
       "      <td>0.844913</td>\n",
       "      <td>2.216603</td>\n",
       "    </tr>\n",
       "  </tbody>\n",
       "</table>\n",
       "</div>"
      ],
      "text/plain": [
       "               ke           W           U      Nu/Nu0\n",
       "count  262.000000  262.000000  262.000000  262.000000\n",
       "mean     0.018462   -0.039002    0.624852    1.426821\n",
       "std      0.010946    0.038442    0.117682    0.302456\n",
       "min      0.001154   -0.138023    0.319027    0.940182\n",
       "25%      0.008036   -0.068418    0.556203    1.196775\n",
       "50%      0.020217   -0.023751    0.618501    1.436865\n",
       "75%      0.027623   -0.011823    0.728888    1.581442\n",
       "max      0.040994    0.030170    0.844913    2.216603"
      ]
     },
     "execution_count": 11,
     "metadata": {},
     "output_type": "execute_result"
    }
   ],
   "source": [
    "# removing outliners, which might affect regression results\n",
    "q = data_update['Nu/Nu0'].quantile(0.01)\n",
    "data_1 = data_update[data_update['Nu/Nu0']>q]\n",
    "data_1.describe(include='all')"
   ]
  },
  {
   "cell_type": "markdown",
   "id": "d68509a0",
   "metadata": {},
   "source": [
    "## Checking linear assumptions"
   ]
  },
  {
   "cell_type": "code",
   "execution_count": 12,
   "id": "e7fde361",
   "metadata": {},
   "outputs": [
    {
     "data": {
      "text/plain": [
       "Text(0.5, 1.0, 'U and Nu/Nu0')"
      ]
     },
     "execution_count": 12,
     "metadata": {},
     "output_type": "execute_result"
    },
    {
     "data": {
      "image/png": "[encoded data removed]",
      "text/plain": [
       "<Figure size 1080x216 with 3 Axes>"
      ]
     },
     "metadata": {},
     "output_type": "display_data"
    }
   ],
   "source": [
    "f, (ax1, ax2, ax3) = plt.subplots(1, 3, sharey=True, figsize = (15, 3))\n",
    "ax1.scatter(data_1['ke'],data_1['Nu/Nu0'])\n",
    "ax1.set_title('ke and Nu/Nu0')\n",
    "ax2.scatter(data_1['W'],data_1['Nu/Nu0'])\n",
    "ax2.set_title('W and Nu/Nu0')\n",
    "ax3.scatter(data_1['U'],data_1['Nu/Nu0'])\n",
    "ax3.set_title('U and Nu/Nu0')"
   ]
  },
  {
   "cell_type": "markdown",
   "id": "92146196",
   "metadata": {},
   "source": [
    "## Checking multicollinearity"
   ]
  },
  {
   "cell_type": "code",
   "execution_count": 13,
   "id": "1dcc1e3b",
   "metadata": {},
   "outputs": [
    {
     "data": {
      "text/plain": [
       "array(['ke', 'W', 'U', 'Nu/Nu0'], dtype=object)"
      ]
     },
     "execution_count": 13,
     "metadata": {},
     "output_type": "execute_result"
    }
   ],
   "source": [
    "data_1.columns.values"
   ]
  },
  {
   "cell_type": "code",
   "execution_count": 14,
   "id": "51a4f284",
   "metadata": {},
   "outputs": [],
   "source": [
    "from statsmodels.stats.outliers_influence import variance_inflation_factor\n",
    "variables = data_1[['ke','W','U']]\n",
    "vif = pd.DataFrame()\n",
    "vif[\"VIF\"] = [variance_inflation_factor(variables.values, i) for i in range(variables.shape[1])]\n",
    "vif[\"Features\"] = variables.columns"
   ]
  },
  {
   "cell_type": "code",
   "execution_count": 15,
   "id": "67cc560e",
   "metadata": {},
   "outputs": [
    {
     "data": {
      "text/html": [
       "<div>\n",
       "<style scoped>\n",
       "    .dataframe tbody tr th:only-of-type {\n",
       "        vertical-align: middle;\n",
       "    }\n",
       "\n",
       "    .dataframe tbody tr th {\n",
       "        vertical-align: top;\n",
       "    }\n",
       "\n",
       "    .dataframe thead th {\n",
       "        text-align: right;\n",
       "    }\n",
       "</style>\n",
       "<table border=\"1\" class=\"dataframe\">\n",
       "  <thead>\n",
       "    <tr style=\"text-align: right;\">\n",
       "      <th></th>\n",
       "      <th>VIF</th>\n",
       "      <th>Features</th>\n",
       "    </tr>\n",
       "  </thead>\n",
       "  <tbody>\n",
       "    <tr>\n",
       "      <th>0</th>\n",
       "      <td>4.582693</td>\n",
       "      <td>ke</td>\n",
       "    </tr>\n",
       "    <tr>\n",
       "      <th>1</th>\n",
       "      <td>3.102720</td>\n",
       "      <td>W</td>\n",
       "    </tr>\n",
       "    <tr>\n",
       "      <th>2</th>\n",
       "      <td>2.650579</td>\n",
       "      <td>U</td>\n",
       "    </tr>\n",
       "  </tbody>\n",
       "</table>\n",
       "</div>"
      ],
      "text/plain": [
       "        VIF Features\n",
       "0  4.582693       ke\n",
       "1  3.102720        W\n",
       "2  2.650579        U"
      ]
     },
     "execution_count": 15,
     "metadata": {},
     "output_type": "execute_result"
    }
   ],
   "source": [
    "vif"
   ]
  },
  {
   "cell_type": "markdown",
   "id": "d6ef5c07",
   "metadata": {},
   "source": [
    "## Linear regression model"
   ]
  },
  {
   "cell_type": "markdown",
   "id": "83ec82f6",
   "metadata": {},
   "source": [
    "### Define inputs and targets"
   ]
  },
  {
   "cell_type": "code",
   "execution_count": 16,
   "id": "06b83851",
   "metadata": {},
   "outputs": [],
   "source": [
    "targets = data_1['Nu/Nu0']\n",
    "inputs = data_1.drop(['Nu/Nu0'], axis = 1)"
   ]
  },
  {
   "cell_type": "markdown",
   "id": "48112d70",
   "metadata": {},
   "source": [
    "### Standardized the data"
   ]
  },
  {
   "cell_type": "code",
   "execution_count": 17,
   "id": "9a5d7589",
   "metadata": {},
   "outputs": [],
   "source": [
    "from sklearn.preprocessing import StandardScaler"
   ]
  },
  {
   "cell_type": "code",
   "execution_count": 18,
   "id": "3872bba9",
   "metadata": {},
   "outputs": [
    {
     "data": {
      "text/plain": [
       "StandardScaler()"
      ]
     },
     "execution_count": 18,
     "metadata": {},
     "output_type": "execute_result"
    }
   ],
   "source": [
    "scaler = StandardScaler()\n",
    "scaler.fit(inputs)"
   ]
  },
  {
   "cell_type": "code",
   "execution_count": 19,
   "id": "5fc02e10",
   "metadata": {},
   "outputs": [],
   "source": [
    "inputs_standardized = scaler.transform(inputs)"
   ]
  },
  {
   "cell_type": "markdown",
   "id": "0377f945",
   "metadata": {},
   "source": [
    "### Split dataset into test data and train data"
   ]
  },
  {
   "cell_type": "code",
   "execution_count": 20,
   "id": "e2f0c63c",
   "metadata": {},
   "outputs": [],
   "source": [
    "from sklearn.model_selection import train_test_split\n",
    "x_train, x_test, y_train, y_test = train_test_split(inputs_standardized, targets, test_size=0.2, random_state=365)"
   ]
  },
  {
   "cell_type": "markdown",
   "id": "dfe5432e",
   "metadata": {},
   "source": [
    "### Create the regression"
   ]
  },
  {
   "cell_type": "code",
   "execution_count": 21,
   "id": "f45d1a89",
   "metadata": {},
   "outputs": [
    {
     "data": {
      "text/plain": [
       "LinearRegression()"
      ]
     },
     "execution_count": 21,
     "metadata": {},
     "output_type": "execute_result"
    }
   ],
   "source": [
    "reg = LinearRegression()\n",
    "reg.fit(x_train,y_train)"
   ]
  },
  {
   "cell_type": "code",
   "execution_count": 22,
   "id": "35368edc",
   "metadata": {},
   "outputs": [],
   "source": [
    "y_predict = reg.predict(x_train)"
   ]
  },
  {
   "cell_type": "code",
   "execution_count": 23,
   "id": "30fa4082",
   "metadata": {},
   "outputs": [
    {
     "data": {
      "image/png": "[encoded data removed]",
      "text/plain": [
       "<Figure size 432x288 with 1 Axes>"
      ]
     },
     "metadata": {},
     "output_type": "display_data"
    }
   ],
   "source": [
    "plt.scatter(y_train,y_predict)\n",
    "plt.xlabel('Targets (y_train)', size = 18)\n",
    "plt.ylabel('Predictions (y_predict)', size = 18)\n",
    "plt.xlim(1,2)\n",
    "plt.ylim(1,2)\n",
    "plt.show()\n",
    "# predictions and targets distribute around the line y=x, which indicates that the prediction approximately represents the targets"
   ]
  },
  {
   "cell_type": "code",
   "execution_count": 24,
   "id": "f2da041b",
   "metadata": {},
   "outputs": [
    {
     "data": {
      "text/plain": [
       "Text(0.5, 1.0, 'Residuals PDF')"
      ]
     },
     "execution_count": 24,
     "metadata": {},
     "output_type": "execute_result"
    },
    {
     "data": {
      "image/png": "[encoded data removed]",
      "text/plain": [
       "<Figure size 360x360 with 1 Axes>"
      ]
     },
     "metadata": {},
     "output_type": "display_data"
    }
   ],
   "source": [
    "sns.displot(y_train - y_predict)\n",
    "plt.title(\"Residuals PDF\", size = 18)"
   ]
  },
  {
   "cell_type": "code",
   "execution_count": 25,
   "id": "27a894af",
   "metadata": {},
   "outputs": [
    {
     "data": {
      "text/plain": [
       "0.6943196113482655"
      ]
     },
     "execution_count": 25,
     "metadata": {},
     "output_type": "execute_result"
    }
   ],
   "source": [
    "reg.score(x_train,y_train)\n",
    "# R-square of the multiple regression is approximately 0.7"
   ]
  },
  {
   "cell_type": "markdown",
   "id": "36b70edb",
   "metadata": {},
   "source": [
    "### Identifying the weights and bias"
   ]
  },
  {
   "cell_type": "code",
   "execution_count": 26,
   "id": "85f19f1d",
   "metadata": {},
   "outputs": [
    {
     "data": {
      "text/plain": [
       "1.416200973095032"
      ]
     },
     "execution_count": 26,
     "metadata": {},
     "output_type": "execute_result"
    }
   ],
   "source": [
    "reg.intercept_"
   ]
  },
  {
   "cell_type": "code",
   "execution_count": 27,
   "id": "8c0273a6",
   "metadata": {},
   "outputs": [
    {
     "data": {
      "text/plain": [
       "array([ 0.24361186, -0.05273695,  0.06412312])"
      ]
     },
     "execution_count": 27,
     "metadata": {},
     "output_type": "execute_result"
    }
   ],
   "source": [
    "reg.coef_"
   ]
  },
  {
   "cell_type": "code",
   "execution_count": 28,
   "id": "81914111",
   "metadata": {},
   "outputs": [
    {
     "data": {
      "text/html": [
       "<div>\n",
       "<style scoped>\n",
       "    .dataframe tbody tr th:only-of-type {\n",
       "        vertical-align: middle;\n",
       "    }\n",
       "\n",
       "    .dataframe tbody tr th {\n",
       "        vertical-align: top;\n",
       "    }\n",
       "\n",
       "    .dataframe thead th {\n",
       "        text-align: right;\n",
       "    }\n",
       "</style>\n",
       "<table border=\"1\" class=\"dataframe\">\n",
       "  <thead>\n",
       "    <tr style=\"text-align: right;\">\n",
       "      <th></th>\n",
       "      <th>Features</th>\n",
       "      <th>Weights</th>\n",
       "    </tr>\n",
       "  </thead>\n",
       "  <tbody>\n",
       "    <tr>\n",
       "      <th>0</th>\n",
       "      <td>ke</td>\n",
       "      <td>0.243612</td>\n",
       "    </tr>\n",
       "    <tr>\n",
       "      <th>1</th>\n",
       "      <td>W</td>\n",
       "      <td>-0.052737</td>\n",
       "    </tr>\n",
       "    <tr>\n",
       "      <th>2</th>\n",
       "      <td>U</td>\n",
       "      <td>0.064123</td>\n",
       "    </tr>\n",
       "  </tbody>\n",
       "</table>\n",
       "</div>"
      ],
      "text/plain": [
       "  Features   Weights\n",
       "0       ke  0.243612\n",
       "1        W -0.052737\n",
       "2        U  0.064123"
      ]
     },
     "execution_count": 28,
     "metadata": {},
     "output_type": "execute_result"
    }
   ],
   "source": [
    "reg_summary = pd.DataFrame(inputs.columns.values, columns = ['Features'])\n",
    "reg_summary['Weights']=reg.coef_\n",
    "reg_summary\n",
    "# ke has the most significant impact on heat transfer"
   ]
  },
  {
   "cell_type": "markdown",
   "id": "6ee3599a",
   "metadata": {},
   "source": [
    "### Testing"
   ]
  },
  {
   "cell_type": "code",
   "execution_count": 29,
   "id": "f9421984",
   "metadata": {},
   "outputs": [],
   "source": [
    "y_prediction_test = reg.predict(x_test)"
   ]
  },
  {
   "cell_type": "code",
   "execution_count": 30,
   "id": "f3ab4e88",
   "metadata": {},
   "outputs": [
    {
     "data": {
      "image/png": "[encoded data removed]",
      "text/plain": [
       "<Figure size 432x288 with 1 Axes>"
      ]
     },
     "metadata": {},
     "output_type": "display_data"
    }
   ],
   "source": [
    "plt.scatter(y_test, y_prediction_test)\n",
    "plt.xlabel('Targets (y_test)', size = 18)\n",
    "plt.ylabel('Predictions (y_hat_test)', size = 18)\n",
    "plt.xlim(1,2)\n",
    "plt.ylim(1,2)\n",
    "plt.show()\n",
    "# Predictions could approximately represents targets"
   ]
  },
  {
   "cell_type": "code",
   "execution_count": 31,
   "id": "cf14b9a2",
   "metadata": {},
   "outputs": [
    {
     "data": {
      "text/plain": [
       "0.7084415370755888"
      ]
     },
     "execution_count": 31,
     "metadata": {},
     "output_type": "execute_result"
    }
   ],
   "source": [
    "reg.score(x_test,y_test)\n",
    "# R-square of regression is approximately 0.72"
   ]
  },
  {
   "cell_type": "code",
   "execution_count": 32,
   "id": "52011ad5",
   "metadata": {},
   "outputs": [
    {
     "data": {
      "text/html": [
       "<div>\n",
       "<style scoped>\n",
       "    .dataframe tbody tr th:only-of-type {\n",
       "        vertical-align: middle;\n",
       "    }\n",
       "\n",
       "    .dataframe tbody tr th {\n",
       "        vertical-align: top;\n",
       "    }\n",
       "\n",
       "    .dataframe thead th {\n",
       "        text-align: right;\n",
       "    }\n",
       "</style>\n",
       "<table border=\"1\" class=\"dataframe\">\n",
       "  <thead>\n",
       "    <tr style=\"text-align: right;\">\n",
       "      <th></th>\n",
       "      <th>Prediction</th>\n",
       "      <th>Target</th>\n",
       "    </tr>\n",
       "  </thead>\n",
       "  <tbody>\n",
       "    <tr>\n",
       "      <th>0</th>\n",
       "      <td>1.680594</td>\n",
       "      <td>1.497979</td>\n",
       "    </tr>\n",
       "    <tr>\n",
       "      <th>1</th>\n",
       "      <td>1.206282</td>\n",
       "      <td>1.300964</td>\n",
       "    </tr>\n",
       "    <tr>\n",
       "      <th>2</th>\n",
       "      <td>1.090886</td>\n",
       "      <td>0.945288</td>\n",
       "    </tr>\n",
       "    <tr>\n",
       "      <th>3</th>\n",
       "      <td>1.150372</td>\n",
       "      <td>1.277562</td>\n",
       "    </tr>\n",
       "    <tr>\n",
       "      <th>4</th>\n",
       "      <td>1.115422</td>\n",
       "      <td>1.042977</td>\n",
       "    </tr>\n",
       "  </tbody>\n",
       "</table>\n",
       "</div>"
      ],
      "text/plain": [
       "   Prediction    Target\n",
       "0    1.680594  1.497979\n",
       "1    1.206282  1.300964\n",
       "2    1.090886  0.945288\n",
       "3    1.150372  1.277562\n",
       "4    1.115422  1.042977"
      ]
     },
     "execution_count": 32,
     "metadata": {},
     "output_type": "execute_result"
    }
   ],
   "source": [
    "df_all = pd.DataFrame(y_prediction_test,columns=['Prediction'])\n",
    "y_test = y_test.reset_index(drop=True)\n",
    "df_all['Target'] = y_test\n",
    "df_all.head()"
   ]
  },
  {
   "cell_type": "code",
   "execution_count": 33,
   "id": "15a7f0a7",
   "metadata": {},
   "outputs": [
    {
     "data": {
      "text/html": [
       "<div>\n",
       "<style scoped>\n",
       "    .dataframe tbody tr th:only-of-type {\n",
       "        vertical-align: middle;\n",
       "    }\n",
       "\n",
       "    .dataframe tbody tr th {\n",
       "        vertical-align: top;\n",
       "    }\n",
       "\n",
       "    .dataframe thead th {\n",
       "        text-align: right;\n",
       "    }\n",
       "</style>\n",
       "<table border=\"1\" class=\"dataframe\">\n",
       "  <thead>\n",
       "    <tr style=\"text-align: right;\">\n",
       "      <th></th>\n",
       "      <th>Prediction</th>\n",
       "      <th>Target</th>\n",
       "      <th>Residual</th>\n",
       "      <th>Difference%</th>\n",
       "    </tr>\n",
       "  </thead>\n",
       "  <tbody>\n",
       "    <tr>\n",
       "      <th>0</th>\n",
       "      <td>1.680594</td>\n",
       "      <td>1.497979</td>\n",
       "      <td>-0.182615</td>\n",
       "      <td>12.190736</td>\n",
       "    </tr>\n",
       "    <tr>\n",
       "      <th>1</th>\n",
       "      <td>1.206282</td>\n",
       "      <td>1.300964</td>\n",
       "      <td>0.094682</td>\n",
       "      <td>7.277838</td>\n",
       "    </tr>\n",
       "    <tr>\n",
       "      <th>2</th>\n",
       "      <td>1.090886</td>\n",
       "      <td>0.945288</td>\n",
       "      <td>-0.145598</td>\n",
       "      <td>15.402514</td>\n",
       "    </tr>\n",
       "    <tr>\n",
       "      <th>3</th>\n",
       "      <td>1.150372</td>\n",
       "      <td>1.277562</td>\n",
       "      <td>0.127190</td>\n",
       "      <td>9.955647</td>\n",
       "    </tr>\n",
       "    <tr>\n",
       "      <th>4</th>\n",
       "      <td>1.115422</td>\n",
       "      <td>1.042977</td>\n",
       "      <td>-0.072445</td>\n",
       "      <td>6.946026</td>\n",
       "    </tr>\n",
       "  </tbody>\n",
       "</table>\n",
       "</div>"
      ],
      "text/plain": [
       "   Prediction    Target  Residual  Difference%\n",
       "0    1.680594  1.497979 -0.182615    12.190736\n",
       "1    1.206282  1.300964  0.094682     7.277838\n",
       "2    1.090886  0.945288 -0.145598    15.402514\n",
       "3    1.150372  1.277562  0.127190     9.955647\n",
       "4    1.115422  1.042977 -0.072445     6.946026"
      ]
     },
     "execution_count": 33,
     "metadata": {},
     "output_type": "execute_result"
    }
   ],
   "source": [
    "df_all['Residual'] = df_all['Target'] - df_all['Prediction']\n",
    "df_all['Difference%'] = np.absolute(df_all['Residual']/df_all['Target']*100)\n",
    "df_all.head()\n",
    "# this table shows the difference between prediction and target"
   ]
  },
  {
   "cell_type": "code",
   "execution_count": 34,
   "id": "9aaf2ec7",
   "metadata": {},
   "outputs": [
    {
     "data": {
      "text/html": [
       "<div>\n",
       "<style scoped>\n",
       "    .dataframe tbody tr th:only-of-type {\n",
       "        vertical-align: middle;\n",
       "    }\n",
       "\n",
       "    .dataframe tbody tr th {\n",
       "        vertical-align: top;\n",
       "    }\n",
       "\n",
       "    .dataframe thead th {\n",
       "        text-align: right;\n",
       "    }\n",
       "</style>\n",
       "<table border=\"1\" class=\"dataframe\">\n",
       "  <thead>\n",
       "    <tr style=\"text-align: right;\">\n",
       "      <th></th>\n",
       "      <th>Prediction</th>\n",
       "      <th>Target</th>\n",
       "      <th>Residual</th>\n",
       "      <th>Difference%</th>\n",
       "    </tr>\n",
       "  </thead>\n",
       "  <tbody>\n",
       "    <tr>\n",
       "      <th>count</th>\n",
       "      <td>53.000000</td>\n",
       "      <td>53.000000</td>\n",
       "      <td>53.000000</td>\n",
       "      <td>53.000000</td>\n",
       "    </tr>\n",
       "    <tr>\n",
       "      <th>mean</th>\n",
       "      <td>1.395672</td>\n",
       "      <td>1.448172</td>\n",
       "      <td>0.052500</td>\n",
       "      <td>9.023891</td>\n",
       "    </tr>\n",
       "    <tr>\n",
       "      <th>std</th>\n",
       "      <td>0.229959</td>\n",
       "      <td>0.311289</td>\n",
       "      <td>0.159509</td>\n",
       "      <td>5.124812</td>\n",
       "    </tr>\n",
       "    <tr>\n",
       "      <th>min</th>\n",
       "      <td>1.077455</td>\n",
       "      <td>0.945288</td>\n",
       "      <td>-0.201577</td>\n",
       "      <td>0.185385</td>\n",
       "    </tr>\n",
       "    <tr>\n",
       "      <th>25%</th>\n",
       "      <td>1.180855</td>\n",
       "      <td>1.251201</td>\n",
       "      <td>-0.069857</td>\n",
       "      <td>4.623819</td>\n",
       "    </tr>\n",
       "    <tr>\n",
       "      <th>50%</th>\n",
       "      <td>1.397823</td>\n",
       "      <td>1.405814</td>\n",
       "      <td>0.058782</td>\n",
       "      <td>9.304221</td>\n",
       "    </tr>\n",
       "    <tr>\n",
       "      <th>75%</th>\n",
       "      <td>1.560072</td>\n",
       "      <td>1.582236</td>\n",
       "      <td>0.180747</td>\n",
       "      <td>12.748496</td>\n",
       "    </tr>\n",
       "    <tr>\n",
       "      <th>max</th>\n",
       "      <td>1.885854</td>\n",
       "      <td>2.196429</td>\n",
       "      <td>0.414146</td>\n",
       "      <td>18.855431</td>\n",
       "    </tr>\n",
       "  </tbody>\n",
       "</table>\n",
       "</div>"
      ],
      "text/plain": [
       "       Prediction     Target   Residual  Difference%\n",
       "count   53.000000  53.000000  53.000000    53.000000\n",
       "mean     1.395672   1.448172   0.052500     9.023891\n",
       "std      0.229959   0.311289   0.159509     5.124812\n",
       "min      1.077455   0.945288  -0.201577     0.185385\n",
       "25%      1.180855   1.251201  -0.069857     4.623819\n",
       "50%      1.397823   1.405814   0.058782     9.304221\n",
       "75%      1.560072   1.582236   0.180747    12.748496\n",
       "max      1.885854   2.196429   0.414146    18.855431"
      ]
     },
     "execution_count": 34,
     "metadata": {},
     "output_type": "execute_result"
    }
   ],
   "source": [
    "df_all.describe()\n",
    "# we could observe that the max difference is around 29.7%\n",
    "# 75% of the data is less than 13% difference."
   ]
  },
  {
   "cell_type": "code",
   "execution_count": 35,
   "id": "8835076a",
   "metadata": {},
   "outputs": [
    {
     "data": {
      "text/html": [
       "<div>\n",
       "<style scoped>\n",
       "    .dataframe tbody tr th:only-of-type {\n",
       "        vertical-align: middle;\n",
       "    }\n",
       "\n",
       "    .dataframe tbody tr th {\n",
       "        vertical-align: top;\n",
       "    }\n",
       "\n",
       "    .dataframe thead th {\n",
       "        text-align: right;\n",
       "    }\n",
       "</style>\n",
       "<table border=\"1\" class=\"dataframe\">\n",
       "  <thead>\n",
       "    <tr style=\"text-align: right;\">\n",
       "      <th></th>\n",
       "      <th>Prediction</th>\n",
       "      <th>Target</th>\n",
       "      <th>Residual</th>\n",
       "      <th>Difference%</th>\n",
       "    </tr>\n",
       "  </thead>\n",
       "  <tbody>\n",
       "    <tr>\n",
       "      <th>51</th>\n",
       "      <td>1.20</td>\n",
       "      <td>1.20</td>\n",
       "      <td>0.00</td>\n",
       "      <td>0.19</td>\n",
       "    </tr>\n",
       "    <tr>\n",
       "      <th>49</th>\n",
       "      <td>1.46</td>\n",
       "      <td>1.45</td>\n",
       "      <td>-0.01</td>\n",
       "      <td>0.72</td>\n",
       "    </tr>\n",
       "    <tr>\n",
       "      <th>43</th>\n",
       "      <td>1.33</td>\n",
       "      <td>1.31</td>\n",
       "      <td>-0.02</td>\n",
       "      <td>1.30</td>\n",
       "    </tr>\n",
       "    <tr>\n",
       "      <th>13</th>\n",
       "      <td>1.41</td>\n",
       "      <td>1.40</td>\n",
       "      <td>-0.02</td>\n",
       "      <td>1.35</td>\n",
       "    </tr>\n",
       "    <tr>\n",
       "      <th>38</th>\n",
       "      <td>1.09</td>\n",
       "      <td>1.11</td>\n",
       "      <td>0.02</td>\n",
       "      <td>2.02</td>\n",
       "    </tr>\n",
       "    <tr>\n",
       "      <th>42</th>\n",
       "      <td>1.53</td>\n",
       "      <td>1.50</td>\n",
       "      <td>-0.03</td>\n",
       "      <td>2.18</td>\n",
       "    </tr>\n",
       "    <tr>\n",
       "      <th>37</th>\n",
       "      <td>1.19</td>\n",
       "      <td>1.16</td>\n",
       "      <td>-0.03</td>\n",
       "      <td>2.56</td>\n",
       "    </tr>\n",
       "    <tr>\n",
       "      <th>10</th>\n",
       "      <td>1.18</td>\n",
       "      <td>1.15</td>\n",
       "      <td>-0.03</td>\n",
       "      <td>2.65</td>\n",
       "    </tr>\n",
       "    <tr>\n",
       "      <th>30</th>\n",
       "      <td>1.49</td>\n",
       "      <td>1.45</td>\n",
       "      <td>-0.04</td>\n",
       "      <td>2.72</td>\n",
       "    </tr>\n",
       "    <tr>\n",
       "      <th>27</th>\n",
       "      <td>1.25</td>\n",
       "      <td>1.21</td>\n",
       "      <td>-0.04</td>\n",
       "      <td>3.34</td>\n",
       "    </tr>\n",
       "    <tr>\n",
       "      <th>31</th>\n",
       "      <td>1.37</td>\n",
       "      <td>1.32</td>\n",
       "      <td>-0.05</td>\n",
       "      <td>3.82</td>\n",
       "    </tr>\n",
       "    <tr>\n",
       "      <th>11</th>\n",
       "      <td>1.41</td>\n",
       "      <td>1.47</td>\n",
       "      <td>0.06</td>\n",
       "      <td>4.00</td>\n",
       "    </tr>\n",
       "    <tr>\n",
       "      <th>28</th>\n",
       "      <td>1.29</td>\n",
       "      <td>1.35</td>\n",
       "      <td>0.06</td>\n",
       "      <td>4.50</td>\n",
       "    </tr>\n",
       "    <tr>\n",
       "      <th>18</th>\n",
       "      <td>1.34</td>\n",
       "      <td>1.41</td>\n",
       "      <td>0.07</td>\n",
       "      <td>4.62</td>\n",
       "    </tr>\n",
       "    <tr>\n",
       "      <th>48</th>\n",
       "      <td>1.66</td>\n",
       "      <td>1.58</td>\n",
       "      <td>-0.07</td>\n",
       "      <td>4.73</td>\n",
       "    </tr>\n",
       "    <tr>\n",
       "      <th>8</th>\n",
       "      <td>1.53</td>\n",
       "      <td>1.46</td>\n",
       "      <td>-0.07</td>\n",
       "      <td>4.77</td>\n",
       "    </tr>\n",
       "    <tr>\n",
       "      <th>50</th>\n",
       "      <td>1.11</td>\n",
       "      <td>1.04</td>\n",
       "      <td>-0.06</td>\n",
       "      <td>5.82</td>\n",
       "    </tr>\n",
       "    <tr>\n",
       "      <th>52</th>\n",
       "      <td>1.12</td>\n",
       "      <td>1.19</td>\n",
       "      <td>0.07</td>\n",
       "      <td>6.26</td>\n",
       "    </tr>\n",
       "    <tr>\n",
       "      <th>35</th>\n",
       "      <td>1.35</td>\n",
       "      <td>1.44</td>\n",
       "      <td>0.09</td>\n",
       "      <td>6.47</td>\n",
       "    </tr>\n",
       "    <tr>\n",
       "      <th>4</th>\n",
       "      <td>1.12</td>\n",
       "      <td>1.04</td>\n",
       "      <td>-0.07</td>\n",
       "      <td>6.95</td>\n",
       "    </tr>\n",
       "    <tr>\n",
       "      <th>1</th>\n",
       "      <td>1.21</td>\n",
       "      <td>1.30</td>\n",
       "      <td>0.09</td>\n",
       "      <td>7.28</td>\n",
       "    </tr>\n",
       "    <tr>\n",
       "      <th>40</th>\n",
       "      <td>1.08</td>\n",
       "      <td>1.00</td>\n",
       "      <td>-0.07</td>\n",
       "      <td>7.44</td>\n",
       "    </tr>\n",
       "    <tr>\n",
       "      <th>20</th>\n",
       "      <td>1.69</td>\n",
       "      <td>1.83</td>\n",
       "      <td>0.14</td>\n",
       "      <td>7.74</td>\n",
       "    </tr>\n",
       "    <tr>\n",
       "      <th>26</th>\n",
       "      <td>1.29</td>\n",
       "      <td>1.41</td>\n",
       "      <td>0.12</td>\n",
       "      <td>8.63</td>\n",
       "    </tr>\n",
       "    <tr>\n",
       "      <th>16</th>\n",
       "      <td>1.14</td>\n",
       "      <td>1.25</td>\n",
       "      <td>0.11</td>\n",
       "      <td>9.11</td>\n",
       "    </tr>\n",
       "    <tr>\n",
       "      <th>36</th>\n",
       "      <td>1.09</td>\n",
       "      <td>1.00</td>\n",
       "      <td>-0.09</td>\n",
       "      <td>9.23</td>\n",
       "    </tr>\n",
       "    <tr>\n",
       "      <th>34</th>\n",
       "      <td>1.73</td>\n",
       "      <td>1.91</td>\n",
       "      <td>0.18</td>\n",
       "      <td>9.30</td>\n",
       "    </tr>\n",
       "    <tr>\n",
       "      <th>19</th>\n",
       "      <td>1.61</td>\n",
       "      <td>1.47</td>\n",
       "      <td>-0.14</td>\n",
       "      <td>9.37</td>\n",
       "    </tr>\n",
       "    <tr>\n",
       "      <th>29</th>\n",
       "      <td>1.18</td>\n",
       "      <td>1.30</td>\n",
       "      <td>0.12</td>\n",
       "      <td>9.51</td>\n",
       "    </tr>\n",
       "    <tr>\n",
       "      <th>6</th>\n",
       "      <td>1.89</td>\n",
       "      <td>2.09</td>\n",
       "      <td>0.20</td>\n",
       "      <td>9.64</td>\n",
       "    </tr>\n",
       "    <tr>\n",
       "      <th>3</th>\n",
       "      <td>1.15</td>\n",
       "      <td>1.28</td>\n",
       "      <td>0.13</td>\n",
       "      <td>9.96</td>\n",
       "    </tr>\n",
       "    <tr>\n",
       "      <th>41</th>\n",
       "      <td>1.66</td>\n",
       "      <td>1.86</td>\n",
       "      <td>0.20</td>\n",
       "      <td>10.56</td>\n",
       "    </tr>\n",
       "    <tr>\n",
       "      <th>44</th>\n",
       "      <td>1.24</td>\n",
       "      <td>1.11</td>\n",
       "      <td>-0.12</td>\n",
       "      <td>11.22</td>\n",
       "    </tr>\n",
       "    <tr>\n",
       "      <th>9</th>\n",
       "      <td>1.13</td>\n",
       "      <td>1.27</td>\n",
       "      <td>0.15</td>\n",
       "      <td>11.43</td>\n",
       "    </tr>\n",
       "    <tr>\n",
       "      <th>32</th>\n",
       "      <td>1.40</td>\n",
       "      <td>1.58</td>\n",
       "      <td>0.18</td>\n",
       "      <td>11.45</td>\n",
       "    </tr>\n",
       "    <tr>\n",
       "      <th>7</th>\n",
       "      <td>1.57</td>\n",
       "      <td>1.77</td>\n",
       "      <td>0.20</td>\n",
       "      <td>11.47</td>\n",
       "    </tr>\n",
       "    <tr>\n",
       "      <th>0</th>\n",
       "      <td>1.68</td>\n",
       "      <td>1.50</td>\n",
       "      <td>-0.18</td>\n",
       "      <td>12.19</td>\n",
       "    </tr>\n",
       "    <tr>\n",
       "      <th>21</th>\n",
       "      <td>1.85</td>\n",
       "      <td>2.12</td>\n",
       "      <td>0.27</td>\n",
       "      <td>12.54</td>\n",
       "    </tr>\n",
       "    <tr>\n",
       "      <th>45</th>\n",
       "      <td>1.70</td>\n",
       "      <td>1.51</td>\n",
       "      <td>-0.19</td>\n",
       "      <td>12.73</td>\n",
       "    </tr>\n",
       "    <tr>\n",
       "      <th>14</th>\n",
       "      <td>1.53</td>\n",
       "      <td>1.75</td>\n",
       "      <td>0.22</td>\n",
       "      <td>12.75</td>\n",
       "    </tr>\n",
       "    <tr>\n",
       "      <th>23</th>\n",
       "      <td>1.18</td>\n",
       "      <td>1.36</td>\n",
       "      <td>0.18</td>\n",
       "      <td>13.31</td>\n",
       "    </tr>\n",
       "    <tr>\n",
       "      <th>47</th>\n",
       "      <td>1.53</td>\n",
       "      <td>1.35</td>\n",
       "      <td>-0.18</td>\n",
       "      <td>13.44</td>\n",
       "    </tr>\n",
       "    <tr>\n",
       "      <th>46</th>\n",
       "      <td>1.64</td>\n",
       "      <td>1.44</td>\n",
       "      <td>-0.20</td>\n",
       "      <td>14.04</td>\n",
       "    </tr>\n",
       "    <tr>\n",
       "      <th>5</th>\n",
       "      <td>1.42</td>\n",
       "      <td>1.67</td>\n",
       "      <td>0.25</td>\n",
       "      <td>14.72</td>\n",
       "    </tr>\n",
       "    <tr>\n",
       "      <th>15</th>\n",
       "      <td>1.46</td>\n",
       "      <td>1.27</td>\n",
       "      <td>-0.19</td>\n",
       "      <td>14.89</td>\n",
       "    </tr>\n",
       "    <tr>\n",
       "      <th>2</th>\n",
       "      <td>1.09</td>\n",
       "      <td>0.95</td>\n",
       "      <td>-0.15</td>\n",
       "      <td>15.40</td>\n",
       "    </tr>\n",
       "    <tr>\n",
       "      <th>22</th>\n",
       "      <td>1.56</td>\n",
       "      <td>1.85</td>\n",
       "      <td>0.29</td>\n",
       "      <td>15.56</td>\n",
       "    </tr>\n",
       "    <tr>\n",
       "      <th>39</th>\n",
       "      <td>1.25</td>\n",
       "      <td>1.08</td>\n",
       "      <td>-0.17</td>\n",
       "      <td>15.87</td>\n",
       "    </tr>\n",
       "    <tr>\n",
       "      <th>17</th>\n",
       "      <td>1.16</td>\n",
       "      <td>1.38</td>\n",
       "      <td>0.22</td>\n",
       "      <td>16.04</td>\n",
       "    </tr>\n",
       "    <tr>\n",
       "      <th>25</th>\n",
       "      <td>1.41</td>\n",
       "      <td>1.68</td>\n",
       "      <td>0.27</td>\n",
       "      <td>16.29</td>\n",
       "    </tr>\n",
       "    <tr>\n",
       "      <th>33</th>\n",
       "      <td>1.51</td>\n",
       "      <td>1.82</td>\n",
       "      <td>0.32</td>\n",
       "      <td>17.36</td>\n",
       "    </tr>\n",
       "    <tr>\n",
       "      <th>24</th>\n",
       "      <td>1.76</td>\n",
       "      <td>2.15</td>\n",
       "      <td>0.39</td>\n",
       "      <td>17.98</td>\n",
       "    </tr>\n",
       "    <tr>\n",
       "      <th>12</th>\n",
       "      <td>1.78</td>\n",
       "      <td>2.20</td>\n",
       "      <td>0.41</td>\n",
       "      <td>18.86</td>\n",
       "    </tr>\n",
       "  </tbody>\n",
       "</table>\n",
       "</div>"
      ],
      "text/plain": [
       "    Prediction  Target  Residual  Difference%\n",
       "51        1.20    1.20      0.00         0.19\n",
       "49        1.46    1.45     -0.01         0.72\n",
       "43        1.33    1.31     -0.02         1.30\n",
       "13        1.41    1.40     -0.02         1.35\n",
       "38        1.09    1.11      0.02         2.02\n",
       "42        1.53    1.50     -0.03         2.18\n",
       "37        1.19    1.16     -0.03         2.56\n",
       "10        1.18    1.15     -0.03         2.65\n",
       "30        1.49    1.45     -0.04         2.72\n",
       "27        1.25    1.21     -0.04         3.34\n",
       "31        1.37    1.32     -0.05         3.82\n",
       "11        1.41    1.47      0.06         4.00\n",
       "28        1.29    1.35      0.06         4.50\n",
       "18        1.34    1.41      0.07         4.62\n",
       "48        1.66    1.58     -0.07         4.73\n",
       "8         1.53    1.46     -0.07         4.77\n",
       "50        1.11    1.04     -0.06         5.82\n",
       "52        1.12    1.19      0.07         6.26\n",
       "35        1.35    1.44      0.09         6.47\n",
       "4         1.12    1.04     -0.07         6.95\n",
       "1         1.21    1.30      0.09         7.28\n",
       "40        1.08    1.00     -0.07         7.44\n",
       "20        1.69    1.83      0.14         7.74\n",
       "26        1.29    1.41      0.12         8.63\n",
       "16        1.14    1.25      0.11         9.11\n",
       "36        1.09    1.00     -0.09         9.23\n",
       "34        1.73    1.91      0.18         9.30\n",
       "19        1.61    1.47     -0.14         9.37\n",
       "29        1.18    1.30      0.12         9.51\n",
       "6         1.89    2.09      0.20         9.64\n",
       "3         1.15    1.28      0.13         9.96\n",
       "41        1.66    1.86      0.20        10.56\n",
       "44        1.24    1.11     -0.12        11.22\n",
       "9         1.13    1.27      0.15        11.43\n",
       "32        1.40    1.58      0.18        11.45\n",
       "7         1.57    1.77      0.20        11.47\n",
       "0         1.68    1.50     -0.18        12.19\n",
       "21        1.85    2.12      0.27        12.54\n",
       "45        1.70    1.51     -0.19        12.73\n",
       "14        1.53    1.75      0.22        12.75\n",
       "23        1.18    1.36      0.18        13.31\n",
       "47        1.53    1.35     -0.18        13.44\n",
       "46        1.64    1.44     -0.20        14.04\n",
       "5         1.42    1.67      0.25        14.72\n",
       "15        1.46    1.27     -0.19        14.89\n",
       "2         1.09    0.95     -0.15        15.40\n",
       "22        1.56    1.85      0.29        15.56\n",
       "39        1.25    1.08     -0.17        15.87\n",
       "17        1.16    1.38      0.22        16.04\n",
       "25        1.41    1.68      0.27        16.29\n",
       "33        1.51    1.82      0.32        17.36\n",
       "24        1.76    2.15      0.39        17.98\n",
       "12        1.78    2.20      0.41        18.86"
      ]
     },
     "execution_count": 35,
     "metadata": {},
     "output_type": "execute_result"
    }
   ],
   "source": [
    "pd.options.display.max_rows = 999\n",
    "pd.set_option('display.float_format', lambda x: '%.2f' % x)\n",
    "df_all.sort_values(by=['Difference%'])\n",
    "# round and sort the values."
   ]
  },
  {
   "cell_type": "markdown",
   "id": "b74a9401",
   "metadata": {},
   "source": [
    "### Main findings:\n",
    "1. The dataset could be fit with multiple linear regression model. \n",
    "2. Turbulence kinetic energy and streamwise velocity have the positive effect on heat transfer. On the other hand, vertical velocity negatively correlated with heat transfer.\n",
    "3. Turbulence kinetic energy has the most significant effect on heat transfer."
   ]
  }
 ],
 "metadata": {
  "kernelspec": {
   "display_name": "Python 3",
   "language": "python",
   "name": "python3"
  },
  "language_info": {
   "codemirror_mode": {
    "name": "ipython",
    "version": 3
   },
   "file_extension": ".py",
   "mimetype": "text/x-python",
   "name": "python",
   "nbconvert_exporter": "python",
   "pygments_lexer": "ipython3",
   "version": "3.8.8"
  }
 },
 "nbformat": 4,
 "nbformat_minor": 5
}
